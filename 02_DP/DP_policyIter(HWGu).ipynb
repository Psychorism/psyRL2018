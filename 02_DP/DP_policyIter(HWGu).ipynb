{
 "cells": [
  {
   "cell_type": "markdown",
   "metadata": {},
   "source": [
    "# Dynamic Programming\n",
    "\n",
    "## 1. Dynamic Programming & Grid World\n",
    "\n",
    "### 1.1. Recap : MDP\n",
    "\n",
    "MDP is a **discrete time stochastic process**. \n",
    "\n",
    "An **MDP** is a 5-tuple $(\\mathcal{S},\\mathcal{A},\\mathcal{P}_a,\\mathcal{R}_a,\\gamma)$.\n",
    "\n",
    "**That is**, $(S_1,A_1,\\mathcal{P}^{a_1}_{s_1 s'},\\mathcal{R}^{a_1}_{s_1},\\gamma)$, $(S_2,A_2,\\mathcal{P}^{a_2}_{s_2 s'},\\mathcal{R}^{a_2}_{s_2},\\gamma)$, $(S_3,A_3,\\mathcal{P}^{a_3}_{s_3 s'},\\mathcal{R}^{a_3}_{s_3},\\gamma)$, $\\cdots$ until the **stopping time $\\tau$**.\n",
    "\n",
    "1. **State** ($S \\in \\mathcal{S}$)\n",
    "\n",
    "2. **Action** ($A \\in \\mathcal{A}$)\n",
    "\n",
    "    - $A_s$ is the finite set of actions available from state\n",
    "\n",
    "3. **(State) Transition Probability** ($\\mathcal{P}_a$)\n",
    "\n",
    "    - $\\mathcal{P}^a_{ss'} = Pr[S_{t+1} = s' \\mid S_t = s, A_t = a]$ \n",
    "    \n",
    "    - the probability that action $a$ in state $s$ at time $t$ will lead to state $s'$ at time $(t+1)$.\n",
    "\n",
    "4. **Reward Function** ($\\mathcal{R}^a_s$)\n",
    "\n",
    "    - $\\mathcal{R}^a_s = \\mathbb{E}[R_{t+1} \\mid S_t = s, A_t = a]$\n",
    "\n",
    "    - the expected immediate reward received after transitioning from state $s$ to state $s'$, due to action $a$\n",
    "    \n",
    "5. **Discount Factor** ($\\gamma$)\n",
    "\n",
    "    - it represents the difference in importance between future rewards and present rewards.\n",
    "\n",
    "    - used to avoid the problem of infinite return ($G_t = R_{t+1} + \\gamma R_{t+1} + \\cdots = \\sum_{k=0}^{\\infty} \\gamma^k R_{t+k+1}$)\n",
    "    \n",
    "### 1.2. A Sequential Decision Making Problem : MDP vs. Reality\n",
    "\n",
    "**Example of \"Street Dancing\"**\n",
    "\n",
    "1. **State**($S_t$) : a specific **posture** at time point $t$\n",
    "\n",
    "2. **Action**($A_t$) : a specific **movement** at time point $t$\n",
    "\n",
    "3. **Transition Probability**($P^{a_t}_{s_t s'}$) : the probability that **movement** $a_t$ from the **posture** $s_t$ will lead to the next **posture** $s'$.\n",
    "\n",
    "4. **Reward Function**($R^{a_t}_{s_t}$) : the amount of **applause** from the crowd received from from the **posture** $s_t$ to $s'$, due to the **movement** $a_t$.\n",
    "\n",
    "5. **Discount Factor** ($\\gamma$) : the difference in importance between future **applause** and present **applause**.\n",
    "\n",
    "(Note that **1,2,4** are the **random variables**)\n",
    "\n",
    "|MDP|Reality\n",
    "-|-|-\n",
    "$\\mathcal{S}$|known|known\n",
    "$\\mathcal{A}$|known|known\n",
    "$\\mathcal{P}$|**known beforehand**|**unknown**\n",
    "$\\mathcal{R}$|**known beforehand**|**unknown until observed**\n",
    "$\\gamma$|known|known"
   ]
  },
  {
   "cell_type": "markdown",
   "metadata": {},
   "source": [
    "### 1.3. Dynamic Programming (DP)\n",
    "\n",
    "**What is DP**?\n",
    "\n",
    "+ A problem-solving paradigm, where the problem is **split into several sub-problems** and the **past solutions are reused**.\n",
    "\n",
    "+ If sub-problems can be **nested recursively** inside larger problems, so that dynamic programming methods are applicable, then **there is a relation between the value of the larger problem and the values of the sub-problems**.\n",
    "\n",
    "**Why DP**?\n",
    "\n",
    "+ In order to effectively find the **target function**.\n",
    "\n",
    "+ To solve the **recurrence formula** by dividing the problem into smaller processes\n",
    "\n",
    "$$\n",
    "v_0(s) \\rightarrow v_1(s) \\rightarrow \\cdots \\rightarrow v_k(s) \\rightarrow \\cdots \\rightarrow v_{\\pi}(s)\n",
    "$$\n",
    "\n",
    "**How to find the value function?**\n",
    "\n",
    "+ **Value function** is the function of states that estimated how good it is for the agent to be in a given state.\n",
    "\n",
    "+ The notion of \"how good\" is defined in terms of **expected return**.\n",
    "\n",
    "+ Thus, we can adopt a **quick-and-dirty approach** using simulations.\n",
    "\n",
    "### 1.4. Grid World Example (Quick-and-Dirty)\n",
    "\n",
    "Let us assume a $3 \\times 3$ grid world.\n",
    "\n",
    "For simplicity, we can assume the following.\n",
    "\n",
    "$$\\mathcal{P}_a = 1,\\mathcal{R}_a = 0, \\text{ (in terminal, } \\mathcal{R}_a = 1) ,\\gamma=0.7$$\n",
    "\n",
    "And we have **random policy**, which can be defined as\n",
    "\n",
    "$$\n",
    "\\pi(a \\mid s) = 0.25 \\ \\ \\forall a\n",
    "$$\n",
    "\n",
    "Without DP, we still be able to **approximate $v$ function**. "
   ]
  },
  {
   "cell_type": "code",
   "execution_count": 1,
   "metadata": {},
   "outputs": [
    {
     "name": "stdout",
     "output_type": "stream",
     "text": [
      "t=0 \tS=(0, 0) \tA=up \tP=1 \tR=0.0 \tgamma=0.7\n",
      "t=1 \tS=(0, 0) \tA=east \tP=1 \tR=0.0 \tgamma=0.7\n",
      "t=2 \tS=(0, 1) \tA=west \tP=1 \tR=0.0 \tgamma=0.7\n",
      "t=3 \tS=(0, 0) \tA=west \tP=1 \tR=0.0 \tgamma=0.7\n",
      "t=4 \tS=(0, 0) \tA=down \tP=1 \tR=0.0 \tgamma=0.7\n",
      "t=5 \tS=(1, 0) \tA=up \tP=1 \tR=0.0 \tgamma=0.7\n",
      "t=6 \tS=(0, 0) \tA=west \tP=1 \tR=0.0 \tgamma=0.7\n",
      "t=7 \tS=(0, 0) \tA=down \tP=1 \tR=0.0 \tgamma=0.7\n",
      "t=8 \tS=(1, 0) \tA=west \tP=1 \tR=0.0 \tgamma=0.7\n",
      "t=9 \tS=(1, 0) \tA=west \tP=1 \tR=0.0 \tgamma=0.7\n",
      "t=10 \tS=(1, 0) \tA=east \tP=1 \tR=0.0 \tgamma=0.7\n",
      "t=11 \tS=(1, 1) \tA=east \tP=1 \tR=0.0 \tgamma=0.7\n",
      "t=12 \tS=(1, 2) \tA=down \tP=1 \tR=0.0 \tgamma=0.7\n",
      "t=13 \tS=(2, 2) \t \t \tR=1.0 \tgamma=0.7\n"
     ]
    },
    {
     "data": {
      "image/png": "[encoded data removed]",
      "text/plain": [
       "<matplotlib.figure.Figure at 0x1066e8128>"
      ]
     },
     "metadata": {},
     "output_type": "display_data"
    },
    {
     "data": {
      "text/plain": [
       "<DP.randomPolicy at 0x1066e8048>"
      ]
     },
     "execution_count": 1,
     "metadata": {},
     "output_type": "execute_result"
    }
   ],
   "source": [
    "from DP import *\n",
    "\n",
    "env = Env()\n",
    "randomPolicy(env)"
   ]
  },
  {
   "cell_type": "code",
   "execution_count": 2,
   "metadata": {},
   "outputs": [
    {
     "name": "stdout",
     "output_type": "stream",
     "text": [
      "[[ 0.03170211  0.06388527  0.11233541]\n",
      " [ 0.06651981  0.15223633  0.28577732]\n",
      " [ 0.12016512  0.28573636  0.7       ]]\n"
     ]
    },
    {
     "data": {
      "text/plain": [
       "<DP.Simulator at 0x1066c9e80>"
      ]
     },
     "execution_count": 2,
     "metadata": {},
     "output_type": "execute_result"
    }
   ],
   "source": [
    "Simulator(env)"
   ]
  },
  {
   "cell_type": "markdown",
   "metadata": {},
   "source": [
    "## 2. Dynamic Programming 1 : Policy Iteration\n",
    "\n",
    "### 2.1. Flow of RL algorithms\n",
    "\n",
    "**Equation**|**Algorithm**|\n",
    "-|-\n",
    "**Bellman Expectation Equation** | Policy iteration\n",
    "**Bellman Optimality Equation** | Value iteration\n",
    "\n",
    "\n",
    "### 2.2. Policy Iteration\n",
    "\n",
    "+ **Policy** $\\rightarrow$ **Policy Evaluation** $\\rightarrow$ **Policy Improvement**\n",
    "\n",
    "+ This iteration can make the policy to converge to the **optimal policy**.\n",
    "\n",
    "### 2.3. Policy Evaluation\n",
    "\n",
    "We can redefine **Bellman Expectation Equation** in a **recursive form**.\n",
    "\n",
    "$$\n",
    "\\begin{aligned}\n",
    "v_{\\pi}(s) &= \\mathbb{E}_{\\pi}[G_t \\mid S_t =s ] \\\\[10pt]\n",
    "&= \\mathbb{E}_{\\pi}[R_{t+1} + \\gamma R_{t+2} + \\gamma^2 R_{t+3} + \\cdots \\mid S_t =s] \\\\[10pt]\n",
    "&= \\mathbb{E}_{\\pi}[\\sum_{k=0}^{\\infty} \\gamma^k R_{t+k+1} \\mid S_t =s ] \\\\[10pt]\n",
    "&= \\mathbb{E}_{\\pi}[R_{t+1} + \\gamma v_{\\pi}(S_{t+1}) \\mid S_t =s ] \\\\[15pt]\n",
    "\\end{aligned}\n",
    "$$\n",
    "\n",
    "This can be further modified so that it can be **calculated**. Note **how $v$ is dependent upon $\\pi$**.\n",
    "\n",
    "\n",
    "$$\n",
    "\\begin{aligned}\n",
    "v_{\\pi}(s) &= \\mathbb{E}_{\\pi}[R_{t+1} + \\gamma v_{\\pi}(S_{t+1}) \\mid S_t =s ] \\\\[15pt]\n",
    "&= \\sum_{a \\in A} \\pi (a \\mid s) (R_{t+1} + \\gamma v_{\\pi}(s') ) ) \\\\[15pt]\n",
    "v_{k+1}(s) &= \\sum_{a \\in A} \\pi (a \\mid s) (R^{a}_{s} + \\gamma v_{k}(s') ) ) \\\\[15pt]\n",
    "\\end{aligned}\n",
    "$$\n",
    "\n",
    "### 2.4. Grid World Example (DP)\n",
    "\n",
    "Using the above formula, we can **easily calculate the $v$ function**."
   ]
  },
  {
   "cell_type": "code",
   "execution_count": 4,
   "metadata": {},
   "outputs": [
    {
     "name": "stdout",
     "output_type": "stream",
     "text": [
      "[[ 0.00133984  0.00765625  0.        ]\n",
      " [ 0.          0.04375     0.30274609]\n",
      " [ 0.04375     0.25        0.66830254]]\n"
     ]
    },
    {
     "data": {
      "text/plain": [
       "<DP.Bellman at 0x1066e8080>"
      ]
     },
     "execution_count": 4,
     "metadata": {},
     "output_type": "execute_result"
    }
   ],
   "source": [
    "Bellman(env)"
   ]
  },
  {
   "cell_type": "markdown",
   "metadata": {},
   "source": [
    "### 2.5. Policy Improvement\n",
    "\n",
    "How can we improve our policy based on the **policy evaluation**?\n",
    "\n",
    "We introduce **Greedy Policy Improvement**.\n",
    "\n",
    "$$\n",
    "\\begin{aligned}\n",
    "q_{\\pi} (s,a) &= R^{a}_{s} + \\gamma v_{\\pi} (s') \\\\[15pt]\n",
    "\\pi'(s) &= argmax_{a \\in A} q_{\\pi} (s, a)\n",
    "\\end{aligned}\n",
    "$$"
   ]
  }
 ],
 "metadata": {
  "kernelspec": {
   "display_name": "Python [conda root]",
   "language": "python",
   "name": "conda-root-py"
  },
  "language_info": {
   "codemirror_mode": {
    "name": "ipython",
    "version": 3
   },
   "file_extension": ".py",
   "mimetype": "text/x-python",
   "name": "python",
   "nbconvert_exporter": "python",
   "pygments_lexer": "ipython3",
   "version": "3.6.3"
  }
 },
 "nbformat": 4,
 "nbformat_minor": 2
}
